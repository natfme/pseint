{
  "nbformat": 4,
  "nbformat_minor": 0,
  "metadata": {
    "colab": {
      "provenance": [],
      "toc_visible": true,
      "authorship_tag": "ABX9TyNl+Gw9cXXyzanF/p90HSKe",
      "include_colab_link": true
    },
    "kernelspec": {
      "name": "python3",
      "display_name": "Python 3"
    },
    "language_info": {
      "name": "python"
    }
  },
  "cells": [
    {
      "cell_type": "markdown",
      "metadata": {
        "id": "view-in-github",
        "colab_type": "text"
      },
      "source": [
        "<a href=\"https://colab.research.google.com/github/natfme/pseint/blob/master/PSeint_apuntes_2p.ipynb\" target=\"_parent\"><img src=\"https://colab.research.google.com/assets/colab-badge.svg\" alt=\"Open In Colab\"/></a>"
      ]
    },
    {
      "cell_type": "markdown",
      "source": [
        "**<p align = \"center\"> PSeint </p>**"
      ],
      "metadata": {
        "id": "-DxQ3G5zAx83"
      }
    },
    {
      "cell_type": "markdown",
      "source": [
        "##**Diagramas de flujo**"
      ],
      "metadata": {
        "id": "fsFRlvsKBZQ8"
      }
    },
    {
      "cell_type": "markdown",
      "source": [
        "<p align = \"center\">\n",
        "<image src=\"https://github.com/natfme/pseint/blob/master/img_pseint/ejemplo_diagramaflujo.png?raw=true\" alt=\"roadmap\" width=\"50%\">\n",
        "</p>\n",
        "\n",
        "\n",
        "---\n",
        "\n",
        "\n",
        "<p align = \"center\">\n",
        "<image src=\"https://github.com/natfme/pseint/blob/master/img_pseint/diagrama-de-flujo-cafe.jpg?raw=true\" alt=\"roadmap\" width=\"50%\">\n",
        "</p>\n",
        "\n",
        "\n",
        "\n",
        "---\n",
        "\n",
        "<p align = \"center\">\n",
        "<image src=\"https://github.com/natfme/pseint/blob/master/img_pseint/Suma%20de%20pares.png?raw=true\" alt=\"roadmap\" width=\"50%\">\n",
        "</p>\n",
        "\n",
        "---\n",
        "\n",
        "<p align = \"center\">\n",
        "<image src=\"https://github.com/natfme/pseint/blob/master/img_pseint/entero_positivo_negativo.png?raw=true\" alt=\"roadmap\" width=\"70%\">\n",
        "</p>"
      ],
      "metadata": {
        "id": "r-uk-ki5Bor2"
      }
    },
    {
      "cell_type": "markdown",
      "source": [
        "## **Elementos del diagrama de flujo**"
      ],
      "metadata": {
        "id": "j0ExkyBhGUc6"
      }
    },
    {
      "cell_type": "markdown",
      "source": [
        "Un diagrama de flujo está formado fundamentalmente por los siguientes elementos:\n",
        "\n",
        "**Línea o flechas del flujo:** Indica la instrucción que se va a realizar, o la dirección del flujo del proceso. Muestra el carácter secuencial del programa.\n",
        "\n",
        "**Terminal o inicio y final:** Es la forma en la cual se indica el “inicio del proceso” y “final del proceso”. Su icono suele ser un rectángulo con las esquinas redondeadas.\n",
        "\n",
        "<p align = \"center\">\n",
        "<image src=\"https://github.com/natfme/365DaysOfCode/blob/master/img_vect_icons/Ddf_1.png?raw=true\" alt=\"roadmap\" width=\"40%\">\n",
        "</p>\n",
        "\n",
        "\n",
        "\n",
        "\n"
      ],
      "metadata": {
        "id": "zG9arcxoGFq7"
      }
    },
    {
      "cell_type": "markdown",
      "source": [
        "**Asignación/ definición**\n",
        "\n",
        "Permite asignar un valor o definir una variable, donde se almacenan los datos que se necesitan para resolver el problema. Suele representarse con un rectángulo.\n",
        "\n",
        "<p align = \"center\">\n",
        "<image src=\"https://github.com/natfme/365DaysOfCode/blob/master/img_vect_icons/asignacion_definicion.png?raw=true\" alt=\"roadmap\" width=\"50%\">\n",
        "</p>"
      ],
      "metadata": {
        "id": "a77vxzB6V6v6"
      }
    },
    {
      "cell_type": "markdown",
      "source": [
        "**Datos de entrada**\n",
        "\n",
        "Indica la recepción de datos en la entrada. Se representa con un recuadro con las esquinas inclinadas y una flecha hacia dentro.\n",
        "\n",
        "<p align = \"center\">\n",
        "<image src=\"https://github.com/natfme/365DaysOfCode/blob/master/img_vect_icons/Datos_entrada.png?raw=true\" alt=\"roadmap\" width=\"40%\">\n",
        "</p>"
      ],
      "metadata": {
        "id": "6v008n_fhUAH"
      }
    },
    {
      "cell_type": "markdown",
      "source": [
        "**Datos de salida**\n",
        "\n",
        "Indica la impresión de datos en la salida. Se representa con un recuadro con las esquinas inclinadas y una flecha hacia fuera.\n",
        "\n",
        "<p align = \"center\">\n",
        "<image src=\"https://github.com/natfme/365DaysOfCode/blob/master/img_vect_icons/Datos_salida.png?raw=true\" alt=\"roadmap\" width=\"50%\">\n",
        "</p>"
      ],
      "metadata": {
        "id": "qSYQh33UhaWP"
      }
    },
    {
      "cell_type": "markdown",
      "source": [
        "**Decisión**\n",
        "\n",
        "Indica que desde el punto en que nos encontramos, puede haber más de un camino para seguir, según la condición dada. En este caso se usa un rombo.\n",
        "\n",
        "<p align = \"center\">\n",
        "<image src=\"https://github.com/natfme/365DaysOfCode/blob/master/img_vect_icons/decision.png?raw=true\" alt=\"roadmap\" width=\"70%\">\n",
        "</p>\n",
        "\n",
        "**Condicional Si-Entonces**\n",
        "\n",
        "La secuencia de instrucciones ejecutadas por la instrucción Si-Entonces-Sino depende del valor de una condición lógica.\n",
        "\n",
        "Al ejecutarse esta instrucción, se evalúa la condición y se ejecutan las instrucciones que correspondan: las instrucciones que le siguen al Entonces si la condición es verdadera, o las instrucciones que le siguen al Sino si la condición es falsa. La condición debe ser una expresión lógica, que al ser evaluada retorna Verdadero o Falso.\n",
        "\n",
        "La cláusula Entonces debe aparecer siempre, pero la cláusla Sino puede no estar. En ese caso, si la condición es falsa no se ejecuta ninguna instrucción y la ejecución del programa continúa con la instrucción siguiente.\n"
      ],
      "metadata": {
        "id": "dbRJyEw_iSE_"
      }
    },
    {
      "cell_type": "markdown",
      "source": [
        "**Selección Multiple**\n",
        "\n",
        "La secuencia de instrucciones ejecutada por una instrucción Segun depende del valor de una variable numérica.\n",
        "\n",
        "Esta instrucción permite ejecutar opcionalmente varias acciones posibles, dependiendo del valor almacenado en una variable de tipo numérico. Al ejecutarse, se evalúa el contenido de la variable y se ejecuta la secuencia de instrucciones asociada con dicho valor.\n",
        "\n",
        "Cada opción está formada por uno o más números separados por comas, dos puntos y una secuencia de instrucciones. Si una opción incluye varios números, la secuencia de instrucciones asociada se debe ejecutar cuando el valor de la variable es uno de esos números.\n",
        "\n",
        "Opcionalmente, se puede agregar una opción final, denominada De Otro Modo, cuya secuencia de instrucciones asociada se ejecutará sólo si el valor almacenado en la variable no coincide con ninguna de las opciones anteriores.\n",
        "\n",
        "<p align = \"center\">\n",
        "<image src=\"https://github.com/natfme/365DaysOfCode/blob/master/img_vect_icons/ejemplo_segun.png?raw=true\" alt=\"roadmap\" width=\"70%\">\n",
        "</p>\n"
      ],
      "metadata": {
        "id": "2ZvWvMPxhzmP"
      }
    },
    {
      "cell_type": "markdown",
      "source": [
        "# **Ciclos**\n",
        "\n",
        "En programación, los **bucles**,  también conocidos como **ciclos** o **loops**, desempeñan un papel fundamental al permitir la repetición o iteración de declaraciones o fragmentos de código. Estos se ejecutan de manera continua hasta que una condición deja de cumplirse, marcando así la transición al siguiente bloque de código.\n",
        "\n",
        "Los diferentes tipos de bucles o ciclos de programación son:\n"
      ],
      "metadata": {
        "id": "F3gZcv1MiazI"
      }
    },
    {
      "cell_type": "markdown",
      "source": [
        "\n",
        "**Bucle mientras**\n",
        "\n",
        "Su función principal es mantener en ejecución un fragmento de código mientras la condición asociada al while permanezca verdadera.\n",
        "\n",
        "El bucle while funciona por medio de booleanos, es decir, a través de valores True o False, donde se establece si la condición es verdadera o falsa.\n",
        "\n",
        "<p align = \"center\">\n",
        "<image src=\"https://github.com/natfme/365DaysOfCode/blob/master/img_vect_icons/while.png?raw=true\" alt=\"roadmap\" width=\"50%\">\n",
        "</p>"
      ],
      "metadata": {
        "id": "dAEmbZ2Oofen"
      }
    },
    {
      "cell_type": "markdown",
      "source": [
        "**Bucle para**\n",
        "\n",
        "Este bucle es uno de los elementos que más se utiliza en programación. Con este tipo de ciclo puedes establecer el número de iteraciones que necesitas que tu bucle repita hasta que quieras que se acabe.\n",
        "\n",
        "<p align = \"center\">\n",
        "<image src=\"https://github.com/natfme/365DaysOfCode/blob/master/img_vect_icons/for.png?raw=true\" alt=\"roadmap\" width=\"70%\">\n",
        "</p>"
      ],
      "metadata": {
        "id": "7vsDHE0EohbD"
      }
    },
    {
      "cell_type": "markdown",
      "source": [
        "**Bucle repetir**\n",
        "\n",
        "Este es un bucle o ciclo de programación que va de la mano con el bucle while, pues también controla la iteración mientras sea positiva, pero en la última parte del bucle. Es decir, un código se repetirá, después de ser ejecutado, cuando se cumpla la condición (esto es considerado un ciclo repetitivo en programación).\n",
        "\n",
        "<p align = \"center\">\n",
        "<image src=\"https://github.com/natfme/365DaysOfCode/blob/master/img_vect_icons/do.png?raw=true\" alt=\"roadmap\" width=\"50%\">\n",
        "</p>"
      ],
      "metadata": {
        "id": "xcfX-Huwoj6b"
      }
    },
    {
      "cell_type": "markdown",
      "source": [
        "# **Tipos de datos**"
      ],
      "metadata": {
        "id": "WTnHW6jtB3_Q"
      }
    },
    {
      "cell_type": "markdown",
      "source": [
        "**Variables**\n",
        "\n",
        "Una variable es un espacio de almacenamiento que se utiliza para guardar datos. Estos datos pueden ser números, texto, valores lógicos (verdadero o falso) u otros tipos de información. Las variables permiten que los programadores almacenen y manipulen datos en sus programas, lo que hace que sean un concepto fundamental en la programación.\n",
        "\n",
        "`Definir nombre_variable Como tipo_de_dato`\n",
        "\n",
        "* nombre_variable: Este es el nombre que se le asignará a la variable.\n",
        "*tipo_de_dato: El tipo de dato que la variable almacenará, como entero, real, caracter o lógico.\n",
        "\n",
        "**Tipos de Datos**\n",
        "En PSEINT, existen varios tipos de datos que determinan qué tipo de información puede almacenarse en una variable. A continuación, se describen algunos de los tipos de datos más comunes en PSEINT:\n",
        "\n",
        "* Entero (Entero): Este tipo de dato se utiliza para almacenar números enteros, es decir, números sin parte decimal. Int\n",
        "* Real (Real): Se utiliza para almacenar números con parte decimal. Float\n",
        "* Carácter (Caracter): Se utiliza para almacenar una secuencia de caracteres, como una palabra o una frase. char, String\n",
        "* Lógico (Logico): Se utiliza para almacenar valores booleanos, es decir, Verdadero o Falso.  Boolean\n",
        "\n",
        "<p align = \"center\">\n",
        "<image src=\"https://github.com/natfme/365DaysOfCode/blob/master/img_vect_icons/tipos_datos.png?raw=true\" alt=\"roadmap\" width=\"40%\">\n",
        "</p>\n",
        "\n",
        "**Asignación de valores a las variables**\n",
        "\n",
        "Para asignar el valor a una variable se utiliza el operador <-\n",
        "\n",
        "<p align = \"center\">\n",
        "<image src=\"https://github.com/natfme/365DaysOfCode/blob/master/img_vect_icons/asignacion_re.png?raw=true\" alt=\"roadmap\" width=\"50%\">\n",
        "</p>\n",
        "\n",
        "**Uso de variables**\n",
        "\n",
        "Después de declarar y asignar los valores a las variables, estas ya pueden ser utilizadas para mostrar textos o números en pantalla, realizar operaciones, tomar deciones.\n",
        "\n",
        "<p align = \"center\">\n",
        "<image src=\"https://github.com/natfme/365DaysOfCode/blob/master/img_vect_icons/variables_valores.png?raw=true\" alt=\"roadmap\" width=\"50%\">\n",
        "</p>"
      ],
      "metadata": {
        "id": "9BXCnqYMCB9x"
      }
    },
    {
      "cell_type": "markdown",
      "source": [
        "## **Operadores**\n",
        "\n",
        "Un operador es un símbolo o un conjunto de símbolos especiales que se utilizan para realizar operaciones o cálculos en los programas.\n",
        "\n",
        "<p align = \"center\">\n",
        "<image src=\"https://github.com/natfme/365DaysOfCode/blob/master/img_vect_icons/Operador.png?raw=true\" alt=\"roadmap\" width=\"50%\">\n",
        "</p>\n",
        "\n",
        "## **Jerarquía de operaciones**\n",
        "\n",
        "<p align = \"center\">\n",
        "<image src=\"https://github.com/natfme/365DaysOfCode/blob/master/img_vect_icons/Jerarqu%C3%ADa%20de%20operaciones.jpeg?raw=true\" alt=\"roadmap\" width=\"40%\">\n",
        "</p>\n",
        "\n",
        "**No olvides que operaciones del mismo nivel se operar de izquierda a derecha**"
      ],
      "metadata": {
        "id": "kJUE2xDwJck8"
      }
    },
    {
      "cell_type": "markdown",
      "source": [
        "## **Arreglos - Dimensionamiento**\n"
      ],
      "metadata": {
        "id": "vmHqgP0Ekenn"
      }
    },
    {
      "cell_type": "markdown",
      "source": [
        "\n",
        "La instrucción Dimension permite definir un arreglo, indicando sus dimensiones.\n",
        "\n",
        "      Dimesion <identificador> (<maxl>,...,<maxN>);\n",
        "\n",
        "Esta instrucción define un arreglo con el nombre indicado en <identificador> y N dimensiones. Los N parámetros indican la cantidad de dimensiones y el valor máximo de cada una de ellas. La cantidad de dimensiones puede ser una o más, y la máxima cantidad de elementos debe ser una expresión numérica positiva.\n",
        "Se pueden definir más de un arreglo en una misma instrucción, separándolos con una coma (,).\n",
        "\n",
        "      Dimension <ident1> (<max11>,...,<max1N>),..., <identM> (<maxM1>,...,<maxMN>)\n",
        "\n",
        "Es importante notar que es necesario definir un arreglo antes de utilizarlo."
      ],
      "metadata": {
        "id": "MCvoVjyzpcYw"
      }
    },
    {
      "cell_type": "markdown",
      "source": [
        "# **Funciones**"
      ],
      "metadata": {
        "id": "h_nUV1M3m6SZ"
      }
    },
    {
      "cell_type": "markdown",
      "source": [
        "Una función en programación es un bloque de código que realiza una tarea específica cuando es llamado.\n",
        "\n",
        "**Funciones integradas en Pseint**\n",
        "\n",
        "<p align = \"center\">\n",
        "<image src=\"https://github.com/natfme/365DaysOfCode/blob/master/img_vect_icons/funciones.png?raw=true\" alt=\"roadmap\" width=\"40%\">\n",
        "</p>"
      ],
      "metadata": {
        "id": "gWCfIjeem-ea"
      }
    },
    {
      "cell_type": "markdown",
      "source": [
        "# Nota\n",
        "\n"
      ],
      "metadata": {
        "id": "NjgSqG5XqPMF"
      }
    },
    {
      "cell_type": "markdown",
      "source": [
        "* Se pueden introducir comentarios luego de una instrucción, o en líneas separadas, mediante el uso de la doble barra ( // ). Todo lo que precede a //, hasta el fin de la línea, no será tomado en cuenta al interpretar el algoritmo.\n",
        "* No puede haber instrucciones fuera del programa, aunque si comentarios.\n",
        "* Las estructuras no secuenciales pueden anidarse. Es decir, pueden contener otras adentro, pero la estructura contenida debe comenzar y finalizar dentro de la contenedora.\n",
        "* Los identificadores, o nombres de variables, deben constar sólo de letras y números, comenzando siempre con una letra, y no pueden ser palabras reservadas (como para, mientras, y, no, etc...)\n",
        "* Las constantes de tipo carácter se escriben entre comillas ( \" ).\n",
        "* En las constantes numéricas, el punto ( . ) es el separador decimal.\n",
        "* Las constantes lógicas son Verdadero y Falso."
      ],
      "metadata": {
        "id": "UJpE96ECbP-x"
      }
    },
    {
      "cell_type": "markdown",
      "source": [
        "## **Palabras reservadas**\n",
        "\n",
        "Las palabras reservadas son identificadores o nombres de variables ue están predefinidos.\n",
        "\n",
        "Las palabras reservadas utilizadas en el programa PSeInt son:\n",
        "\n",
        "<p align = \"center\">\n",
        "<image src=\"https://github.com/natfme/365DaysOfCode/blob/master/img_vect_icons/palabras_reservadas.png?raw=true\" alt=\"roadmap\" width=\"60%\">\n",
        "</p>"
      ],
      "metadata": {
        "id": "-ZtNPeHPraGs"
      }
    },
    {
      "cell_type": "markdown",
      "source": [
        "# Ejercicios"
      ],
      "metadata": {
        "id": "6X4I8HficWs9"
      }
    },
    {
      "cell_type": "markdown",
      "source": [
        "## **Ejercicio 1: primer programa**\n",
        "\n",
        "**Primera parte**\n",
        "Diagrama de flujo de un programa que muestra el texto ¡Hola Mundo! en pantalla\n",
        "\n",
        "Salidas: texto ¡Hola Mundo!\n",
        "\n",
        "Entradas: NA.\n",
        "\n",
        "Almacenamiento: NA.\n",
        "\n",
        "Operación: NA.\n",
        "\n"
      ],
      "metadata": {
        "id": "B_OrPv7ClgtJ"
      }
    },
    {
      "cell_type": "markdown",
      "source": [
        "**Segunda parte**\n",
        "\n",
        "Incluir la definición de 4 variables, lectura y mostrarla en pantalla.\n",
        "\n",
        "* Edad como Entero\n",
        "* Altura como Real\n",
        "* Nombre como Cadena\n",
        "* Valor como Lógico\n",
        "\n",
        "Salidas: tiene que pedir los textos y números correspondientes a los datos, y luego tiene que mostralos en pantalla.\n",
        "\n",
        "Entradas: Números enteros, reales, texto y Verdadero o Falso.\n",
        "\n",
        "Almacenamiento: 4 variables que almacenan los datos ingresados (edad, altura, nombre y valor_logico)\n",
        "\n",
        "Operación: NA."
      ],
      "metadata": {
        "id": "2zURQLa-a7SZ"
      }
    },
    {
      "cell_type": "markdown",
      "source": [
        "## **Ejercicio 2: Suma de dos números**\n",
        "\n",
        "Diagrama de flujo de un programa que a partir de dos números los suma y muestra el resultado en pantalla\n",
        "\n",
        "Salidas: tiene que pedir los dos números a sumar, y luego tiene que mostrar el resultado.\n",
        "\n",
        "Entradas: los dos números a sumar.\n",
        "\n",
        "Almacenamiento: dos variables que almacenen los números a sumar (num1 y num2) , y una tercera que almacene el resultado (resultado).\n",
        "\n",
        "Operación: suma."
      ],
      "metadata": {
        "id": "QemX2gGipZ1A"
      }
    },
    {
      "cell_type": "markdown",
      "source": [
        "## **Ejercicio 3: Comparación dos números**\n",
        "\n",
        "Diagrama de flujo de un programa que a partir de dos números compara cuál es mayor y lo muestra en pantalla.\n",
        "\n",
        "\n",
        "Salidas: tiene que pedir los dos números a comparar, y luego tiene que mostrar el resultado de la comparación.\n",
        "\n",
        "Entradas: los dos números a comparar.\n",
        "\n",
        "Almacenamiento: dos variables que almacenen los números a comparar (num1 y num2).\n",
        "\n",
        "Operación: comparación lógica."
      ],
      "metadata": {
        "id": "VoQcy7P9qWYQ"
      }
    },
    {
      "cell_type": "markdown",
      "source": [
        "## **Ejercicio 4: Comparación tres números**\n",
        "\n",
        "Diagrama de flujo de un programa que a partir de tres números compara cuál es mayor y lo muestra en pantalla.\n",
        "\n",
        "\n",
        "Salidas: tiene que pedir los tres números a comparar, y luego tiene que mostrar el resultado de la comparación.\n",
        "\n",
        "Entradas: los tres números a comparar.\n",
        "\n",
        "Almacenamiento: tres variables que almacenen los números a comparar (num1 y num2).\n",
        "\n",
        "Operación: comparación lógica."
      ],
      "metadata": {
        "id": "D6zN6fZAqnMy"
      }
    },
    {
      "cell_type": "markdown",
      "source": [
        "\n",
        "\n",
        "---\n",
        "\n"
      ],
      "metadata": {
        "id": "zn-B9Z8UkLxP"
      }
    },
    {
      "cell_type": "markdown",
      "source": [
        "## **Ejercicio 5: Número entre 1 y 10**\n",
        "\n",
        "Diagrama de flujo de un programa que al entrar un número que no está entre 1 y 10, diga opción no válida y siga preguntando por el número y lo muestra en pantalla.\n",
        "\n",
        "Salidas: tiene que pedir un número, y luego tiene que mostrar el número.\n",
        "\n",
        "Entradas: un número\n",
        "\n",
        "Almacenamiento: una variable.\n",
        "\n",
        "Operación: comparación lógica."
      ],
      "metadata": {
        "id": "1zQRRp2NwpfZ"
      }
    },
    {
      "cell_type": "markdown",
      "source": [
        "## **Ejercicio 6: Comparación tres números entre 1 y 10 -> [1,10]**\n",
        "\n",
        "Diagrama de flujo de un programa que a partir de tres números entre 1 y 10,compara cuál es mayor y lo muestra en pantalla.\n",
        "\n",
        "Salidas: tiene que pedir los tres números a comparar, y luego tiene que mostrar el resultado de la comparación.\n",
        "\n",
        "Entradas: los tres números a comparar.\n",
        "\n",
        "Almacenamiento: tres variables que almacenen los números a comparar (num1 y num2).\n",
        "\n",
        "Operación: comparación lógica."
      ],
      "metadata": {
        "id": "v7jG8MsGxf7N"
      }
    },
    {
      "cell_type": "markdown",
      "source": [
        "## **Ejercicio 7: Calcule la fuerza**\n",
        "\n",
        "Diagrama de flujo de un programa que a partir de la aceleración y masa de un sistema, calcule la fuerza y muestre el resultado en pantalla.\n",
        "\n",
        "Salidas: tiene que pedir los dos números, y luego tiene que mostrar el resultado.\n",
        "\n",
        "Entradas: los dos números masa y aceleración.\n",
        "\n",
        "Almacenamiento: tres variables que almacenen los números y el resultado.\n",
        "\n",
        "Operación: Multiplicación."
      ],
      "metadata": {
        "id": "RTLUKhF6oprT"
      }
    },
    {
      "cell_type": "markdown",
      "source": [
        "## **Ejercicio 8: Calcule el área de un triángulo rectángulo**\n",
        "\n",
        "Diagrama de flujo de un programa que a partir de dos números altura y altura, calcule el área de un triángulo rectángulo y muestre el resultado en pantalla.\n",
        "\n",
        "Salidas: tiene que pedir los dos números, y luego tiene que mostrar el resultado.\n",
        "\n",
        "Entradas: los dos números altura y base.\n",
        "\n",
        "Almacenamiento: tres variables que almacenen los números y el resultado.\n",
        "\n",
        "Operación: Multiplicación y división."
      ],
      "metadata": {
        "id": "Rgl_VjNnnwmy"
      }
    },
    {
      "cell_type": "markdown",
      "source": [
        "\n",
        "\n",
        "---\n",
        "\n"
      ],
      "metadata": {
        "id": "4pll8vJXkOiQ"
      }
    },
    {
      "cell_type": "markdown",
      "source": [
        "## **Ejercicio 9: Condición de existencia de los triángulos.**\n",
        "\n",
        "Condición de existencia de los triángulos. Una de las propiedades de existencia de los triángulos es que la suma de dos de sus lados es siempre mayor que el otro.\n",
        "\n",
        "* a + b > c\n",
        "\n",
        "* a + c > b\n",
        "\n",
        "* b + c > a\n",
        "\n",
        "Si estas tres condiciones son verdaderas, entonces un triángulo con lados a, b y c puede existir.\n",
        "\n",
        "<p align = \"center\">\n",
        "<image src=\"https://github.com/natfme/365DaysOfCode/blob/master/img_vect_icons/condicion_existencia_triangulo.png?raw=true\" alt=\"roadmap\" width=\"90%\">\n",
        "</p>\n",
        "\n",
        "Diagrama de flujo de un programa que a partir de tres números a, b y c, calcule si cumple la condición de existencia del triángulo y muestre el resultado en pantalla(si puede formar un triángulo o no).\n"
      ],
      "metadata": {
        "id": "PxQXaDz8Wmr-"
      }
    },
    {
      "cell_type": "markdown",
      "source": [
        "## **Ejercicio 10: Clasificación de triángulos según la medida de sus lados.**\n",
        "\n",
        "Recordemos que, según la medida de sus lados los triángulos se clasifican en:\n",
        "- Triángulo equilátero: todos sus lados tienen la misma medida.\n",
        "- Triángulo isósceles: tiene dos lados de igual medida.\n",
        "- Triángulo escaleno: todos sus lados tienen distintas medidas.\n",
        "\n",
        "<p align = \"center\">\n",
        "<image src=\"https://github.com/natfme/365DaysOfCode/blob/master/img_vect_icons/triangulos_medidas.png?raw=true\" alt=\"roadmap\" width=\"60%\">\n",
        "</p>\n",
        "\n",
        "Diagrama de flujo de un programa en pantalla que a partir de tres números a, b y c, muestre el tipo de triángulo."
      ],
      "metadata": {
        "id": "_I8CLIosd5dy"
      }
    },
    {
      "cell_type": "markdown",
      "source": [
        "## **Selección Multiple**\n",
        "\n",
        "La secuencia de instrucciones ejecutada por una instrucción Segun depende del valor de una variable numérica.\n",
        "\n",
        "<p align = \"center\">\n",
        "<image src=\"https://github.com/natfme/365DaysOfCode/blob/master/img_vect_icons/ps_segun.png?raw=true\" alt=\"roadmap\" width=\"30%\">\n",
        "</p>\n",
        "\n",
        "## **Ejercicio *: Días de la semana.**\n",
        "\n",
        "Diagrama de flujo de un programa que a aprtir de un número de 1 a 7, muestre en pantalla el día de la semana y su traducción en inglés.\n",
        "\n",
        "\n",
        "<p align = \"center\">\n",
        "<image src=\"https://github.com/natfme/365DaysOfCode/blob/master/img_vect_icons/dias_de_la_semana.png?raw=true\" alt=\"roadmap\" width=\"40%\">\n",
        "</p>"
      ],
      "metadata": {
        "id": "q1aCltPFlzde"
      }
    },
    {
      "cell_type": "markdown",
      "source": [
        "## **Ejercicio 11: Mes del año.**\n",
        "\n",
        "Diagrama de flujo de un programa que a partir de un número de 1 a 12, muestre en pantalla el nombre del mes, cuantos días tiene (en un año no bisiesto) y el nombre del mes en inglés.\n",
        "\n",
        "<p align = \"center\">\n",
        "<image src=\"https://github.com/natfme/365DaysOfCode/blob/master/img_vect_icons/dias-meses_c.png?raw=true\" alt=\"roadmap\" width=\"50%\">\n",
        "</p>"
      ],
      "metadata": {
        "id": "dem1YbOiiZji"
      }
    },
    {
      "cell_type": "markdown",
      "source": [
        "## **Ejercicio 12: Polígonos regulares según su número de lados.**\n",
        "\n",
        "Diagrama de flujo de un programa que a partir de un número de 3 a 12, muestre el tipo de polígono regular en pantalla.\n",
        "\n",
        "<p align = \"center\">\n",
        "<image src=\"https://github.com/natfme/365DaysOfCode/blob/master/img_vect_icons/poligonos_regulares_nombres_y_clasificacion_4857_orig.jpg?raw=true\" alt=\"roadmap\" width=\"40%\">\n",
        "</p>"
      ],
      "metadata": {
        "id": "xyAkmSk9e-bc"
      }
    },
    {
      "cell_type": "markdown",
      "source": [
        "\n",
        "\n",
        "---\n",
        "\n"
      ],
      "metadata": {
        "id": "9wdpKFcVHi4f"
      }
    },
    {
      "cell_type": "markdown",
      "source": [
        "## **Bucles**\n",
        "\n",
        "**Bucle Para (for):**\n",
        "\n",
        "Este bucle se usa cuando sabemos cuántas veces queremos repetir algo.\n",
        "\n",
        "<p align = \"center\">\n",
        "<image src=\"https://github.com/natfme/365DaysOfCode/blob/master/img_vect_icons/ps_para.png?raw=true\" alt=\"roadmap\" width=\"40%\">\n",
        "</p>\n",
        "\n",
        "## **Ejercicio *: Números de 1 al 5.**\n",
        "\n",
        "Diagrama de flujo de un programa que imprima los números del 1 al 5, muestre los números en pantalla.\n",
        "\n",
        "## **Ejercicio *: suma de los primeros 5 números naturales.**\n",
        "\n",
        "Diagrama de flujo de un programa que calcule la suma de los primeros 5 números naturales y muestre el resultado en pantalla\n"
      ],
      "metadata": {
        "id": "HX465zy7ktDs"
      }
    },
    {
      "cell_type": "markdown",
      "source": [
        "## **Bucles**\n",
        "\n",
        "**Bucle mientras (while):**\n",
        "\n",
        "Este bucle se usa cuando no estamos seguros de cuántas veces necesitaremos repetir una acción, pero sabemos que queremos seguir repitiéndola mientras se cumpla cierta condición. Es como decir: \"Sigue haciendo esto hasta que pase algo\".\n",
        "\n",
        "<p align = \"center\">\n",
        "<image src=\"https://github.com/natfme/365DaysOfCode/blob/master/img_vect_icons/ps_mientras.png?raw=true\" alt=\"roadmap\" width=\"35%\">\n",
        "</p>\n",
        "\n",
        "## **Ejercicio *: Números de 1 al 5.**\n",
        "\n",
        "Diagrama de flujo de un programa que imprima los números naturales hasta que la cantidad de números ingresados sea 5, muestre los números en pantalla."
      ],
      "metadata": {
        "id": "lV-uQQ78lJR4"
      }
    },
    {
      "cell_type": "markdown",
      "source": [
        "## **Bucles**\n",
        "\n",
        "**Bucle repetir (do-while):**\n",
        "\n",
        "Este tipo de bucle es parecido al while, pero la diferencia es que siempre se ejecuta al menos una vez, porque la condición se verifica después de la ejecución del bloque de código.\n",
        "\n",
        "<p align = \"center\">\n",
        "<image src=\"https://github.com/natfme/365DaysOfCode/blob/master/img_vect_icons/ps_repetir.png?raw=true\" alt=\"roadmap\" width=\"30%\">\n",
        "</p>\n",
        "\n",
        "## **Ejercicio *: Números de 1 al 5.**\n",
        "\n",
        "Diagrama de flujo de un programa que imprima los números naturales hasta que la cantidad de números ingresados sea 5, muestre los números en pantalla."
      ],
      "metadata": {
        "id": "WaDs2-j1n37n"
      }
    },
    {
      "cell_type": "markdown",
      "source": [
        "## **Ejercicio 13: Números pares del 2 al 20.**\n",
        "\n",
        "Diagrama de flujo de un programa que a partir\n",
        "Imprimir los números pares del 2 al 20.\n",
        "\n",
        "## **Ejercicio 14: números naturales del 10 al 1.**\n",
        "\n",
        "Diagrama de flujo de un programa que imprima los números del 10 al 1 en orden descendente.\n",
        "\n",
        "## **Ejercicio 15: \"Hola Mundo\".**\n",
        "\n",
        "Diagrama de flujo de un programa que imprima\"Hola Mundo\" 5 veces\n",
        "\n",
        "## **Ejercicio 16:  Promedio de una lista de 5 datos.**\n",
        "\n",
        "Diagrama de flujo de un programa que calcule el promedio de 5 números y muestre el resultado en pantalla\n",
        "\n",
        "<p align = \"center\">\n",
        "<image src=\"https://github.com/natfme/365DaysOfCode/blob/master/img_vect_icons/promedio_aritmetico.jpg?raw=true\" alt=\"roadmap\" width=\"30%\">\n",
        "</p>"
      ],
      "metadata": {
        "id": "kV1f6O5Go3Xh"
      }
    },
    {
      "cell_type": "markdown",
      "source": [
        "## **Ejercicio 17: suma de los números impares del 1 al 15.**\n",
        "\n",
        "Diagrama de flujo de un programa que calcule la suma de los números impares del 1 al 15.\n",
        "\n",
        "## **Ejercicio 18: tabla de multiplicar del 7.**\n",
        "Diagrama de flujo de un programa que imprima la tabla de multiplicar del 7.\n",
        "\n",
        "## **Ejercicio 19: factorial de un número natural.**\n",
        "\n",
        "Diagrama de flujo de un programa que calcule el factorial de un número dado.\n",
        "\n",
        "<p align = \"center\">\n",
        "<image src=\"https://github.com/natfme/365DaysOfCode/blob/master/img_vect_icons/Factorial.png?raw=true\" alt=\"roadmap\" width=\"45%\">\n",
        "</p>\n",
        "\n",
        "## **Ejercicio 20: suma de los cuadrados de los primeros 5 números naturales.**\n",
        "\n",
        "Diagrama de flujo de un programa que calcule la suma de los cuadrados de los primeros 5 números.\n",
        "\n",
        "## **Ejercicio 21: Serie de Fibonacci.**\n",
        "\n",
        "Diagrama de flujo de un programa que imprima los primeros 10 números de la serie de Fibonacci.\n",
        "\n",
        "<p align = \"center\">\n",
        "<image src=\"https://github.com/natfme/365DaysOfCode/blob/master/img_vect_icons/fibonacci.jpg?raw=true\" alt=\"roadmap\" width=\"40%\">\n",
        "</p>\n",
        "\n",
        "## **Ejercicio 22: Serie de Fibonacci ++.**\n",
        "\n",
        "Diagrama de flujo de un programa que lea un número n e imprima los n números de la serie de Fibonacci."
      ],
      "metadata": {
        "id": "F7BR8llAqVAy"
      }
    },
    {
      "cell_type": "markdown",
      "source": [
        "\n",
        "\n",
        "---\n",
        "\n"
      ],
      "metadata": {
        "id": "APdOdxY6uACb"
      }
    },
    {
      "cell_type": "markdown",
      "source": [],
      "metadata": {
        "id": "yG6q1YkYv5_V"
      }
    }
  ]
}